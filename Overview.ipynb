{
 "cells": [
  {
   "cell_type": "markdown",
   "id": "898b87d6-96c4-4c9b-9713-fde12d72c176",
   "metadata": {},
   "source": [
    "# SKC JupyterLab"
   ]
  },
  {
   "cell_type": "code",
   "execution_count": 1,
   "id": "bff3dc73-02d1-49de-a397-eb086ac17c33",
   "metadata": {},
   "outputs": [
    {
     "name": "stdout",
     "output_type": "stream",
     "text": [
      "3.11.6 | packaged by conda-forge | (main, Oct  3 2023, 10:40:35) [GCC 12.3.0]\n"
     ]
    }
   ],
   "source": [
    "import sys\n",
    "print(sys.version)"
   ]
  },
  {
   "cell_type": "markdown",
   "id": "96eedf95-e36d-45af-84a3-ef53016628f9",
   "metadata": {},
   "source": [
    "Lessons (Day 1):\n",
    "* https://datacarpentry.org/R-ecology-lesson-alternative/index.html\n",
    "* https://datacarpentry.org/R-ecology-lesson-alternative/introduction-r-rstudio.html\n",
    "* https://datacarpentry.org/R-ecology-lesson-alternative/visualizing-ggplot.html\n",
    "* https://datacarpentry.org/R-ecology-lesson-alternative/how-r-thinks-about-data.html\n",
    "\n",
    "Lessons (Day 2):\n",
    "* https://datacarpentry.org/R-ecology-lesson-alternative/working-with-data.html\n",
    "* https://datacarpentry.org/R-ecology-lesson/05-r-and-databases.html"
   ]
  },
  {
   "cell_type": "code",
   "execution_count": null,
   "id": "8d33cae3-32d9-431a-b806-0556792fb840",
   "metadata": {},
   "outputs": [],
   "source": []
  }
 ],
 "metadata": {
  "kernelspec": {
   "display_name": "Python 3 (ipykernel)",
   "language": "python",
   "name": "python3"
  },
  "language_info": {
   "codemirror_mode": {
    "name": "ipython",
    "version": 3
   },
   "file_extension": ".py",
   "mimetype": "text/x-python",
   "name": "python",
   "nbconvert_exporter": "python",
   "pygments_lexer": "ipython3",
   "version": "3.11.6"
  }
 },
 "nbformat": 4,
 "nbformat_minor": 5
}
